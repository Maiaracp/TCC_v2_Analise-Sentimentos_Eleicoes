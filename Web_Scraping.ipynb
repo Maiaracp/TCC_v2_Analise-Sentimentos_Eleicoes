{
 "cells": [
  {
   "cell_type": "code",
   "execution_count": 176,
   "id": "21b8f2b7",
   "metadata": {},
   "outputs": [],
   "source": [
    "import tweepy\n",
    "from keys import *\n",
    "import csv\n",
    "import time\n",
    "import pandas as pd"
   ]
  },
  {
   "cell_type": "code",
   "execution_count": null,
   "id": "84b80c8a",
   "metadata": {},
   "outputs": [],
   "source": []
  },
  {
   "cell_type": "code",
   "execution_count": 177,
   "id": "4660f5eb",
   "metadata": {},
   "outputs": [],
   "source": [
    "import requests\n",
    "\n",
    "client = tweepy.Client( bearer_token=bearer_token, \n",
    "                        consumer_key=consumer_key, \n",
    "                        consumer_secret=consumer_secret)"
   ]
  },
  {
   "cell_type": "code",
   "execution_count": 156,
   "id": "5efa5d00",
   "metadata": {},
   "outputs": [],
   "source": [
    "start_time = '2022-01-01T00:00:00Z'"
   ]
  },
  {
   "cell_type": "code",
   "execution_count": 17,
   "id": "7cdbd9e0",
   "metadata": {},
   "outputs": [],
   "source": [
    "query = 'eleições 2022 -is:retweet lang:pt'"
   ]
  },
  {
   "cell_type": "code",
   "execution_count": null,
   "id": "6c38174b",
   "metadata": {},
   "outputs": [],
   "source": [
    "query = '#eleições2022 or eleições 2022 or eleições -is:retweet lang:pt'"
   ]
  },
  {
   "cell_type": "code",
   "execution_count": 158,
   "id": "2fc19342",
   "metadata": {},
   "outputs": [],
   "source": [
    "query = 'eleição -is:retweet lang:pt'"
   ]
  },
  {
   "cell_type": "code",
   "execution_count": 165,
   "id": "255fab91",
   "metadata": {
    "scrolled": true
   },
   "outputs": [],
   "source": [
    "def busca(query, lista):\n",
    "    \n",
    "    f = open('search'+'_'+ query + '.csv', 'a', newline='', encoding='utf-8')\n",
    "    w = csv.writer(f)\n",
    "    \n",
    "    w.writerow(['Tweet_ID', 'Tweet_Text', 'Created_at', 'Tweet_Geo', 'User_Name', 'User_Location'])\n",
    "    \n",
    "    try:\n",
    "        tweets = client.search_all_tweets(query=query, tweet_fields=['created_at','geo'],\n",
    "                                          user_fields=['created_at', 'location', 'id','name'],\n",
    "                                          expansions=['author_id','geo.place_id'],\n",
    "                                          place_fields=['place_type', 'geo'],\n",
    "                                          start_time = start_time,\n",
    "                                          max_results=100)\n",
    "        users = {u[\"id\"]: u for u in tweets.includes['users']}\n",
    "\n",
    "        for tweet in tweets.data:\n",
    "            if users[tweet.author_id]:\n",
    "                user = users[tweet.author_id] \n",
    "                \n",
    "            last_id = tweets.meta['oldest_id']\n",
    "            \n",
    "            row = [tweet.id,\n",
    "                   tweet.text,\n",
    "                   tweet.created_at,\n",
    "                   tweet.geo,\n",
    "                   user.name,user.location]\n",
    "\n",
    "            w.writerow(row) \n",
    "        f.close()\n",
    "        lista.append(last_id)\n",
    "\n",
    "    except Exception as e:\n",
    "        f.close()\n",
    "        lista.append(last_id)\n",
    "        print(e)\n",
    "\n",
    "   "
   ]
  },
  {
   "cell_type": "code",
   "execution_count": 12,
   "id": "b02e16e0",
   "metadata": {
    "scrolled": false
   },
   "outputs": [],
   "source": [
    "# Busca Bolsonaro\n",
    "last_ids_b= [1569536845666725895]\n",
    "#query = 'bolsonaro -is:retweet lang:pt'\n"
   ]
  },
  {
   "cell_type": "code",
   "execution_count": 63,
   "id": "69eabc89",
   "metadata": {},
   "outputs": [
    {
     "data": {
      "text/plain": [
       "[1569536845666725895,\n",
       " '1577819587399352321',\n",
       " '1577819596823969792',\n",
       " '1577819648799952896',\n",
       " '1577819677492813824',\n",
       " '1577819693594935298',\n",
       " '1577819774289149952',\n",
       " '1577819846280204289',\n",
       " '1577819898067156992',\n",
       " '1577820010969448449',\n",
       " '1577820111938920449',\n",
       " '1577820121183272972',\n",
       " '1577820207422517249',\n",
       " '1577820355741290496',\n",
       " '1577820415627599874',\n",
       " '1577820433025581061',\n",
       " '1577820502437109760',\n",
       " '1577820581747122177',\n",
       " '1577820670452539392',\n",
       " '1577820736126844933',\n",
       " '1577820745337544704',\n",
       " '1577820789189009410',\n",
       " '1577820814539464704',\n",
       " '1577820817458601984',\n",
       " '1577820825910185984',\n",
       " '1577820848861446144',\n",
       " '1577820854976651264',\n",
       " '1577820936484552704',\n",
       " '1577820946618097665',\n",
       " '1577820984773677057',\n",
       " '1577821013638881282',\n",
       " '1577821035331813380',\n",
       " '1577821143893000193',\n",
       " '1577821182535110656',\n",
       " '1577821196808323072',\n",
       " '1577821419177639939',\n",
       " '1577821452899942400',\n",
       " '1577821465663213569',\n",
       " '1577821518272290817',\n",
       " '1577821531333447685',\n",
       " '1577821617379577856',\n",
       " '1577821722732109825',\n",
       " '1577821904123092993',\n",
       " '1577821994204205058',\n",
       " '1577822037707575296',\n",
       " '1577822039347453953',\n",
       " '1577822092397088770',\n",
       " '1577822097547694082',\n",
       " '1577822146662899713',\n",
       " '1577822193840373760',\n",
       " '1577822212995907585',\n",
       " '1577822220071698432',\n",
       " '1577822225809514497',\n",
       " '1577822246361612289',\n",
       " '1577822312941977601',\n",
       " '1577822422643916800',\n",
       " '1577822519020617729',\n",
       " '1577822541544030209',\n",
       " '1577822557453041665',\n",
       " '1577822570837118976',\n",
       " '1577822730908483587',\n",
       " '1577822798583668736',\n",
       " '1577822800668139520',\n",
       " '1577822803994329088',\n",
       " '1577822890891923461',\n",
       " '1577822972064186368',\n",
       " '1577823012321218560',\n",
       " '1577823012891541506',\n",
       " '1577823019711578113',\n",
       " '1577823032965582848',\n",
       " '1577823117048676352',\n",
       " '1577823257872502785',\n",
       " '1577823358795890690',\n",
       " '1577823367578664967',\n",
       " '1577823389724581888',\n",
       " '1577823556175642624',\n",
       " '1577823596793167873',\n",
       " '1577823644490895361',\n",
       " '1577823646411677696',\n",
       " '1577823757053448192',\n",
       " '1577823789924159489',\n",
       " '1577823803488477184',\n",
       " '1577823841178583041',\n",
       " '1577823868605140993',\n",
       " '1577823947558723585',\n",
       " '1577824035488030720',\n",
       " '1577824081138913281',\n",
       " '1577824319228485633',\n",
       " '1577824461457440770',\n",
       " '1577824557100064768',\n",
       " '1577824567921369088',\n",
       " '1577824765980688384',\n",
       " '1577824865981169665',\n",
       " '1577825221691772931',\n",
       " '1577825247272878080',\n",
       " '1577825274485510144',\n",
       " '1577825317716205568',\n",
       " '1577825445818650624',\n",
       " '1577825461404864512',\n",
       " '1577825511438516224',\n",
       " '1577825542090391552',\n",
       " '1577825606854742016',\n",
       " '1577825708377866241',\n",
       " '1577825746629890048',\n",
       " '1577825782797373442',\n",
       " '1577825835582636036',\n",
       " '1577825861289611265',\n",
       " '1577825922975154181',\n",
       " '1577825943007203329',\n",
       " '1577825973155807232',\n",
       " '1577825973226983424',\n",
       " '1577826008757309441',\n",
       " '1577826019012407296',\n",
       " '1577826036309495810',\n",
       " '1577826048246325248',\n",
       " '1577826063182438401',\n",
       " '1577826084934090752',\n",
       " '1577826113090469888',\n",
       " '1577826198310326275',\n",
       " '1577826288953352192',\n",
       " '1577826304619171841',\n",
       " '1577826311573233665',\n",
       " '1577826349741481984',\n",
       " '1577826420532944896',\n",
       " '1577826472420524032',\n",
       " '1577826482684059650',\n",
       " '1577826484546424832',\n",
       " '1577826510727061504',\n",
       " '1577826558538121216',\n",
       " '1577826559746007040',\n",
       " '1577826570592571392',\n",
       " '1577826581443186695',\n",
       " '1577826706831949826',\n",
       " '1577826736443621377',\n",
       " '1577826752835059714',\n",
       " '1577826782732075009',\n",
       " '1577826818471632896',\n",
       " '1577826850801426434',\n",
       " '1577827016698920960',\n",
       " '1577827091751608322',\n",
       " '1577827207745097728',\n",
       " '1577827227642757122',\n",
       " '1577827228229967872',\n",
       " '1577827312833220609',\n",
       " '1577827315370844161',\n",
       " '1577827326565531648',\n",
       " '1577827433016860672',\n",
       " '1577827480697815045',\n",
       " '1577827503200243712',\n",
       " '1577827521839628288',\n",
       " '1577827569268932608',\n",
       " '1577827796277141505',\n",
       " '1577827797279596544',\n",
       " '1577827855924346880',\n",
       " '1577827895006863360',\n",
       " '1577827940833845248',\n",
       " '1577827954159222784',\n",
       " '1577827978578432001',\n",
       " '1577827996261662721',\n",
       " '1577828014947172352',\n",
       " '1577828246279839745',\n",
       " '1577828321873858560',\n",
       " '1577828615294689281',\n",
       " '1577828662828752896',\n",
       " '1577828746035433473',\n",
       " '1577828886687137792',\n",
       " '1577828936272289792',\n",
       " '1577828999241383936',\n",
       " '1577829037510168582',\n",
       " '1577829101959798785',\n",
       " '1577829158905937921',\n",
       " '1577829183748726786',\n",
       " '1577829230762762240',\n",
       " '1577829407477186560',\n",
       " '1577829525995618304',\n",
       " '1577829534254211072',\n",
       " '1577829535038464000',\n",
       " '1577829639099138050']"
      ]
     },
     "execution_count": 63,
     "metadata": {},
     "output_type": "execute_result"
    }
   ],
   "source": [
    "last_ids_b"
   ]
  },
  {
   "cell_type": "code",
   "execution_count": 13,
   "id": "34942d29",
   "metadata": {
    "scrolled": true
   },
   "outputs": [
    {
     "ename": "NameError",
     "evalue": "name 'busca' is not defined",
     "output_type": "error",
     "traceback": [
      "\u001b[0;31m---------------------------------------------------------------------------\u001b[0m",
      "\u001b[0;31mNameError\u001b[0m                                 Traceback (most recent call last)",
      "\u001b[0;32m<ipython-input-13-87d471fca059>\u001b[0m in \u001b[0;36m<module>\u001b[0;34m\u001b[0m\n\u001b[1;32m      1\u001b[0m \u001b[0;31m# Busca Bolsonaro\u001b[0m\u001b[0;34m\u001b[0m\u001b[0;34m\u001b[0m\u001b[0;34m\u001b[0m\u001b[0m\n\u001b[0;32m----> 2\u001b[0;31m \u001b[0mbusca\u001b[0m\u001b[0;34m(\u001b[0m\u001b[0mquery\u001b[0m\u001b[0;34m,\u001b[0m\u001b[0mlast_ids_b\u001b[0m\u001b[0;34m)\u001b[0m\u001b[0;34m\u001b[0m\u001b[0;34m\u001b[0m\u001b[0m\n\u001b[0m",
      "\u001b[0;31mNameError\u001b[0m: name 'busca' is not defined"
     ]
    }
   ],
   "source": [
    "# Busca Bolsonaro\n",
    "busca(query,last_ids_b)"
   ]
  },
  {
   "cell_type": "code",
   "execution_count": 191,
   "id": "fb3a6e08",
   "metadata": {},
   "outputs": [
    {
     "ename": "UnboundLocalError",
     "evalue": "local variable 'last_id' referenced before assignment",
     "output_type": "error",
     "traceback": [
      "\u001b[0;31m---------------------------------------------------------------------------\u001b[0m",
      "\u001b[0;31mKeyError\u001b[0m                                  Traceback (most recent call last)",
      "\u001b[0;32m<ipython-input-163-80c9bb574dec>\u001b[0m in \u001b[0;36mbusca_id\u001b[0;34m(id, lista)\u001b[0m\n\u001b[1;32m     13\u001b[0m                                           max_results=500)\n\u001b[0;32m---> 14\u001b[0;31m         \u001b[0musers\u001b[0m \u001b[0;34m=\u001b[0m \u001b[0;34m{\u001b[0m\u001b[0mu\u001b[0m\u001b[0;34m[\u001b[0m\u001b[0;34m\"id\"\u001b[0m\u001b[0;34m]\u001b[0m\u001b[0;34m:\u001b[0m \u001b[0mu\u001b[0m \u001b[0;32mfor\u001b[0m \u001b[0mu\u001b[0m \u001b[0;32min\u001b[0m \u001b[0mtweets\u001b[0m\u001b[0;34m.\u001b[0m\u001b[0mincludes\u001b[0m\u001b[0;34m[\u001b[0m\u001b[0;34m'users'\u001b[0m\u001b[0;34m]\u001b[0m\u001b[0;34m}\u001b[0m\u001b[0;34m\u001b[0m\u001b[0;34m\u001b[0m\u001b[0m\n\u001b[0m\u001b[1;32m     15\u001b[0m \u001b[0;34m\u001b[0m\u001b[0m\n",
      "\u001b[0;31mKeyError\u001b[0m: 'users'",
      "\nDuring handling of the above exception, another exception occurred:\n",
      "\u001b[0;31mUnboundLocalError\u001b[0m                         Traceback (most recent call last)",
      "\u001b[0;32m<ipython-input-191-7d076913461d>\u001b[0m in \u001b[0;36m<module>\u001b[0;34m\u001b[0m\n\u001b[1;32m      2\u001b[0m \u001b[0mlimit\u001b[0m\u001b[0;34m=\u001b[0m\u001b[0;36m500\u001b[0m\u001b[0;34m\u001b[0m\u001b[0;34m\u001b[0m\u001b[0m\n\u001b[1;32m      3\u001b[0m \u001b[0;32mwhile\u001b[0m \u001b[0mcont\u001b[0m \u001b[0;34m<\u001b[0m \u001b[0mlimit\u001b[0m\u001b[0;34m:\u001b[0m\u001b[0;34m\u001b[0m\u001b[0;34m\u001b[0m\u001b[0m\n\u001b[0;32m----> 4\u001b[0;31m     \u001b[0mbusca_id\u001b[0m\u001b[0;34m(\u001b[0m\u001b[0mlast_ids_b\u001b[0m\u001b[0;34m[\u001b[0m\u001b[0;34m-\u001b[0m\u001b[0;36m1\u001b[0m\u001b[0;34m]\u001b[0m\u001b[0;34m,\u001b[0m \u001b[0mlast_ids_b\u001b[0m\u001b[0;34m)\u001b[0m\u001b[0;34m\u001b[0m\u001b[0;34m\u001b[0m\u001b[0m\n\u001b[0m\u001b[1;32m      5\u001b[0m     \u001b[0mcont\u001b[0m \u001b[0;34m+=\u001b[0m\u001b[0;36m1\u001b[0m\u001b[0;34m\u001b[0m\u001b[0;34m\u001b[0m\u001b[0m\n\u001b[1;32m      6\u001b[0m     \u001b[0mtime\u001b[0m\u001b[0;34m.\u001b[0m\u001b[0msleep\u001b[0m\u001b[0;34m(\u001b[0m\u001b[0;36m2\u001b[0m\u001b[0;34m)\u001b[0m\u001b[0;34m\u001b[0m\u001b[0;34m\u001b[0m\u001b[0m\n",
      "\u001b[0;32m<ipython-input-163-80c9bb574dec>\u001b[0m in \u001b[0;36mbusca_id\u001b[0;34m(id, lista)\u001b[0m\n\u001b[1;32m     32\u001b[0m     \u001b[0;32mexcept\u001b[0m \u001b[0mException\u001b[0m \u001b[0;32mas\u001b[0m \u001b[0me\u001b[0m\u001b[0;34m:\u001b[0m\u001b[0;34m\u001b[0m\u001b[0;34m\u001b[0m\u001b[0m\n\u001b[1;32m     33\u001b[0m         \u001b[0mf\u001b[0m\u001b[0;34m.\u001b[0m\u001b[0mclose\u001b[0m\u001b[0;34m(\u001b[0m\u001b[0;34m)\u001b[0m\u001b[0;34m\u001b[0m\u001b[0;34m\u001b[0m\u001b[0m\n\u001b[0;32m---> 34\u001b[0;31m         \u001b[0mlista\u001b[0m\u001b[0;34m.\u001b[0m\u001b[0mappend\u001b[0m\u001b[0;34m(\u001b[0m\u001b[0mlast_id\u001b[0m\u001b[0;34m)\u001b[0m\u001b[0;34m\u001b[0m\u001b[0;34m\u001b[0m\u001b[0m\n\u001b[0m\u001b[1;32m     35\u001b[0m         \u001b[0mprint\u001b[0m\u001b[0;34m(\u001b[0m\u001b[0me\u001b[0m\u001b[0;34m)\u001b[0m\u001b[0;34m\u001b[0m\u001b[0;34m\u001b[0m\u001b[0m\n\u001b[1;32m     36\u001b[0m \u001b[0;34m\u001b[0m\u001b[0m\n",
      "\u001b[0;31mUnboundLocalError\u001b[0m: local variable 'last_id' referenced before assignment"
     ]
    }
   ],
   "source": [
    "cont=0\n",
    "limit=500\n",
    "while cont < limit:\n",
    "    busca_id(last_ids_b[-1], last_ids_b)\n",
    "    cont +=1\n",
    "    time.sleep(2)"
   ]
  },
  {
   "cell_type": "code",
   "execution_count": 185,
   "id": "48518eaf",
   "metadata": {},
   "outputs": [],
   "source": [
    "busca_id(last_ids_b[-1], last_ids_b)\n"
   ]
  },
  {
   "cell_type": "code",
   "execution_count": 186,
   "id": "3e3524ef",
   "metadata": {
    "scrolled": true
   },
   "outputs": [
    {
     "data": {
      "text/plain": [
       "'1577836975616413696'"
      ]
     },
     "execution_count": 186,
     "metadata": {},
     "output_type": "execute_result"
    }
   ],
   "source": [
    "last_ids_b[-1]"
   ]
  },
  {
   "cell_type": "code",
   "execution_count": 163,
   "id": "30f14f0c",
   "metadata": {},
   "outputs": [],
   "source": [
    "def busca_id (id, lista):\n",
    "    \n",
    "    f = open('search'+'_'+ query + '.csv', 'a', newline='', encoding='utf-8')\n",
    "    w = csv.writer(f)\n",
    "    \n",
    "    \n",
    "    try:\n",
    "        tweets = client.search_all_tweets(query=query, tweet_fields=['created_at','geo'],\n",
    "                                          user_fields=['created_at', 'location', 'id','name'],\n",
    "                                          expansions=['author_id','geo.place_id'],\n",
    "                                          place_fields=['place_type', 'geo'],\n",
    "                                          since_id = id,\n",
    "                                          max_results=500)\n",
    "        users = {u[\"id\"]: u for u in tweets.includes['users']}\n",
    "\n",
    "        for tweet in tweets.data:\n",
    "            if users[tweet.author_id]:\n",
    "                user = users[tweet.author_id] \n",
    "                \n",
    "            last_id = tweets.meta['oldest_id']\n",
    "            \n",
    "            row = [tweet.id,\n",
    "                   tweet.text,\n",
    "                   tweet.created_at,\n",
    "                   tweet.geo,\n",
    "                   user.name,user.location]\n",
    "\n",
    "            w.writerow(row) \n",
    "        f.close()\n",
    "        lista.append(last_id)\n",
    "\n",
    "    except Exception as e:\n",
    "        f.close()\n",
    "        lista.append(last_id)\n",
    "        print(e)\n",
    "        "
   ]
  },
  {
   "cell_type": "code",
   "execution_count": 662,
   "id": "9cab695f",
   "metadata": {},
   "outputs": [],
   "source": [
    "#Busca Lula\n",
    "#query = 'lula -is:retweet lang:pt'\n",
    "#busca(query,last_ids_b)"
   ]
  },
  {
   "cell_type": "code",
   "execution_count": 727,
   "id": "23c04e40",
   "metadata": {},
   "outputs": [],
   "source": [
    "#Busca Ciro\n",
    "#query = 'ciro -is:retweet lang:pt'\n",
    "#busca(query,last_ids_b)"
   ]
  },
  {
   "cell_type": "code",
   "execution_count": 808,
   "id": "bbc6bde5",
   "metadata": {},
   "outputs": [],
   "source": [
    "#Busca Simone Tebet\n",
    "#query = 'simone tebet -is:retweet lang:pt'\n",
    "#busca(query,last_ids_b)"
   ]
  },
  {
   "cell_type": "code",
   "execution_count": 192,
   "id": "55bd4f55",
   "metadata": {},
   "outputs": [],
   "source": [
    "df= pd.read_csv('search_eleições 2022 -is:retweet lang:pt.csv')"
   ]
  },
  {
   "cell_type": "code",
   "execution_count": 193,
   "id": "88732301",
   "metadata": {},
   "outputs": [
    {
     "data": {
      "text/html": [
       "<div>\n",
       "<style scoped>\n",
       "    .dataframe tbody tr th:only-of-type {\n",
       "        vertical-align: middle;\n",
       "    }\n",
       "\n",
       "    .dataframe tbody tr th {\n",
       "        vertical-align: top;\n",
       "    }\n",
       "\n",
       "    .dataframe thead th {\n",
       "        text-align: right;\n",
       "    }\n",
       "</style>\n",
       "<table border=\"1\" class=\"dataframe\">\n",
       "  <thead>\n",
       "    <tr style=\"text-align: right;\">\n",
       "      <th></th>\n",
       "      <th>Tweet_ID</th>\n",
       "      <th>Tweet_Text</th>\n",
       "      <th>Created_at</th>\n",
       "      <th>Tweet_Geo</th>\n",
       "      <th>User_Name</th>\n",
       "      <th>User_Location</th>\n",
       "    </tr>\n",
       "  </thead>\n",
       "  <tbody>\n",
       "    <tr>\n",
       "      <th>0</th>\n",
       "      <td>1569536845666725895</td>\n",
       "      <td>@evanizesk ELEIÇÕES 2022 \\n\\nMARINA SILVA OFIC...</td>\n",
       "      <td>2022-09-13 04:01:59+00:00</td>\n",
       "      <td>NaN</td>\n",
       "      <td>José Aloise Bahia</td>\n",
       "      <td>Pelo mundo</td>\n",
       "    </tr>\n",
       "    <tr>\n",
       "      <th>1</th>\n",
       "      <td>1569536832366321664</td>\n",
       "      <td>Ipec: Lula passa de 44% para 46%, e Bolsonaro ...</td>\n",
       "      <td>2022-09-13 04:01:56+00:00</td>\n",
       "      <td>NaN</td>\n",
       "      <td>Mél Lopes🚩🚩🚩💖</td>\n",
       "      <td>São José dos Campos, Brasil</td>\n",
       "    </tr>\n",
       "    <tr>\n",
       "      <th>2</th>\n",
       "      <td>1569536580335050752</td>\n",
       "      <td>Tarde demais, @jairbolsonaro, os 780.000 morto...</td>\n",
       "      <td>2022-09-13 04:00:55+00:00</td>\n",
       "      <td>NaN</td>\n",
       "      <td>Dalton de Souza Amorim</td>\n",
       "      <td>Ribeirão Preto, Brasil</td>\n",
       "    </tr>\n",
       "    <tr>\n",
       "      <th>3</th>\n",
       "      <td>1569536492938350592</td>\n",
       "      <td>Com candidatura indeferida, Gabriel Monteiro a...</td>\n",
       "      <td>2022-09-13 04:00:35+00:00</td>\n",
       "      <td>NaN</td>\n",
       "      <td>Jornal Extra</td>\n",
       "      <td>Brasil</td>\n",
       "    </tr>\n",
       "    <tr>\n",
       "      <th>4</th>\n",
       "      <td>1569536430401290241</td>\n",
       "      <td>IPEC BATE O MARTELO: BOZO ESTÁ MORTO E ENTERRA...</td>\n",
       "      <td>2022-09-13 04:00:20+00:00</td>\n",
       "      <td>NaN</td>\n",
       "      <td>Leonardo Rubim Franco</td>\n",
       "      <td>NaN</td>\n",
       "    </tr>\n",
       "    <tr>\n",
       "      <th>...</th>\n",
       "      <td>...</td>\n",
       "      <td>...</td>\n",
       "      <td>...</td>\n",
       "      <td>...</td>\n",
       "      <td>...</td>\n",
       "      <td>...</td>\n",
       "    </tr>\n",
       "    <tr>\n",
       "      <th>334262</th>\n",
       "      <td>1577837058789343232</td>\n",
       "      <td>A marca do desmatamento amazônico no 1º turno ...</td>\n",
       "      <td>2022-10-06 01:44:04+00:00</td>\n",
       "      <td>NaN</td>\n",
       "      <td>markybrito 🇧🇷</td>\n",
       "      <td>Rio Branco, Acre, Brasil.</td>\n",
       "    </tr>\n",
       "    <tr>\n",
       "      <th>334263</th>\n",
       "      <td>1577837136392372224</td>\n",
       "      <td>Live Pr Bolsonaro - Eleições 2022 - 05/10/2022...</td>\n",
       "      <td>2022-10-06 01:44:22+00:00</td>\n",
       "      <td>NaN</td>\n",
       "      <td>Anna Viana</td>\n",
       "      <td>Clermont, FL</td>\n",
       "    </tr>\n",
       "    <tr>\n",
       "      <th>334264</th>\n",
       "      <td>1577837109548924928</td>\n",
       "      <td>Eleições 2022: Encruzilhada Histórica para o B...</td>\n",
       "      <td>2022-10-06 01:44:16+00:00</td>\n",
       "      <td>NaN</td>\n",
       "      <td>Wagner Tesla Brasil</td>\n",
       "      <td>NaN</td>\n",
       "    </tr>\n",
       "    <tr>\n",
       "      <th>334265</th>\n",
       "      <td>1577837136392372224</td>\n",
       "      <td>Live Pr Bolsonaro - Eleições 2022 - 05/10/2022...</td>\n",
       "      <td>2022-10-06 01:44:22+00:00</td>\n",
       "      <td>NaN</td>\n",
       "      <td>Anna Viana</td>\n",
       "      <td>Clermont, FL</td>\n",
       "    </tr>\n",
       "    <tr>\n",
       "      <th>334266</th>\n",
       "      <td>1577837232374833153</td>\n",
       "      <td>Um Congresso mais hostil ao meio ambiente http...</td>\n",
       "      <td>2022-10-06 01:44:45+00:00</td>\n",
       "      <td>NaN</td>\n",
       "      <td>markybrito 🇧🇷</td>\n",
       "      <td>Rio Branco, Acre, Brasil.</td>\n",
       "    </tr>\n",
       "  </tbody>\n",
       "</table>\n",
       "<p>334267 rows × 6 columns</p>\n",
       "</div>"
      ],
      "text/plain": [
       "                   Tweet_ID  \\\n",
       "0       1569536845666725895   \n",
       "1       1569536832366321664   \n",
       "2       1569536580335050752   \n",
       "3       1569536492938350592   \n",
       "4       1569536430401290241   \n",
       "...                     ...   \n",
       "334262  1577837058789343232   \n",
       "334263  1577837136392372224   \n",
       "334264  1577837109548924928   \n",
       "334265  1577837136392372224   \n",
       "334266  1577837232374833153   \n",
       "\n",
       "                                               Tweet_Text  \\\n",
       "0       @evanizesk ELEIÇÕES 2022 \\n\\nMARINA SILVA OFIC...   \n",
       "1       Ipec: Lula passa de 44% para 46%, e Bolsonaro ...   \n",
       "2       Tarde demais, @jairbolsonaro, os 780.000 morto...   \n",
       "3       Com candidatura indeferida, Gabriel Monteiro a...   \n",
       "4       IPEC BATE O MARTELO: BOZO ESTÁ MORTO E ENTERRA...   \n",
       "...                                                   ...   \n",
       "334262  A marca do desmatamento amazônico no 1º turno ...   \n",
       "334263  Live Pr Bolsonaro - Eleições 2022 - 05/10/2022...   \n",
       "334264  Eleições 2022: Encruzilhada Histórica para o B...   \n",
       "334265  Live Pr Bolsonaro - Eleições 2022 - 05/10/2022...   \n",
       "334266  Um Congresso mais hostil ao meio ambiente http...   \n",
       "\n",
       "                       Created_at Tweet_Geo               User_Name  \\\n",
       "0       2022-09-13 04:01:59+00:00       NaN       José Aloise Bahia   \n",
       "1       2022-09-13 04:01:56+00:00       NaN           Mél Lopes🚩🚩🚩💖   \n",
       "2       2022-09-13 04:00:55+00:00       NaN  Dalton de Souza Amorim   \n",
       "3       2022-09-13 04:00:35+00:00       NaN            Jornal Extra   \n",
       "4       2022-09-13 04:00:20+00:00       NaN   Leonardo Rubim Franco   \n",
       "...                           ...       ...                     ...   \n",
       "334262  2022-10-06 01:44:04+00:00       NaN           markybrito 🇧🇷   \n",
       "334263  2022-10-06 01:44:22+00:00       NaN              Anna Viana   \n",
       "334264  2022-10-06 01:44:16+00:00       NaN     Wagner Tesla Brasil   \n",
       "334265  2022-10-06 01:44:22+00:00       NaN              Anna Viana   \n",
       "334266  2022-10-06 01:44:45+00:00       NaN           markybrito 🇧🇷   \n",
       "\n",
       "                      User_Location  \n",
       "0                        Pelo mundo  \n",
       "1       São José dos Campos, Brasil  \n",
       "2            Ribeirão Preto, Brasil  \n",
       "3                            Brasil  \n",
       "4                               NaN  \n",
       "...                             ...  \n",
       "334262    Rio Branco, Acre, Brasil.  \n",
       "334263                 Clermont, FL  \n",
       "334264                          NaN  \n",
       "334265                 Clermont, FL  \n",
       "334266    Rio Branco, Acre, Brasil.  \n",
       "\n",
       "[334267 rows x 6 columns]"
      ]
     },
     "execution_count": 193,
     "metadata": {},
     "output_type": "execute_result"
    }
   ],
   "source": [
    "df"
   ]
  },
  {
   "cell_type": "code",
   "execution_count": 161,
   "id": "4601d859",
   "metadata": {},
   "outputs": [
    {
     "data": {
      "text/plain": [
       "(334245, 6)"
      ]
     },
     "execution_count": 161,
     "metadata": {},
     "output_type": "execute_result"
    }
   ],
   "source": [
    "df.shape"
   ]
  },
  {
   "cell_type": "code",
   "execution_count": 123,
   "id": "b578e9e7",
   "metadata": {},
   "outputs": [
    {
     "data": {
      "text/plain": [
       "0         True\n",
       "1         True\n",
       "2         True\n",
       "3         True\n",
       "4         True\n",
       "          ... \n",
       "332721    True\n",
       "332722    True\n",
       "332723    True\n",
       "332724    True\n",
       "332725    True\n",
       "Name: Created_at, Length: 332726, dtype: bool"
      ]
     },
     "execution_count": 123,
     "metadata": {},
     "output_type": "execute_result"
    }
   ],
   "source": [
    "df['Created_at'] > '2022-09-13'"
   ]
  },
  {
   "cell_type": "code",
   "execution_count": 38,
   "id": "371251b2",
   "metadata": {},
   "outputs": [
    {
     "name": "stdout",
     "output_type": "stream",
     "text": [
      "<generator object <genexpr> at 0x7fbf590fbc80>\n"
     ]
    }
   ],
   "source": [
    "print (value for value in df['Tweet_ID'] if value.is_unique == False)"
   ]
  },
  {
   "cell_type": "code",
   "execution_count": null,
   "id": "8da26dfd",
   "metadata": {},
   "outputs": [],
   "source": []
  }
 ],
 "metadata": {
  "kernelspec": {
   "display_name": "Python 3",
   "language": "python",
   "name": "python3"
  },
  "language_info": {
   "codemirror_mode": {
    "name": "ipython",
    "version": 3
   },
   "file_extension": ".py",
   "mimetype": "text/x-python",
   "name": "python",
   "nbconvert_exporter": "python",
   "pygments_lexer": "ipython3",
   "version": "3.8.8"
  }
 },
 "nbformat": 4,
 "nbformat_minor": 5
}
